{
 "cells": [
  {
   "cell_type": "code",
   "execution_count": 1,
   "id": "fad8a965-a4a6-4a94-bc5d-3b5ec5a5f9a0",
   "metadata": {},
   "outputs": [],
   "source": [
    "class Node:\n",
    "    def __init__(self,data):\n",
    "        self.data = data\n",
    "        self.left = None\n",
    "        self.right = None"
   ]
  },
  {
   "cell_type": "code",
   "execution_count": 2,
   "id": "0129facc-8b56-4196-8bb0-445aa1706cae",
   "metadata": {},
   "outputs": [],
   "source": [
    "def inorder_traversal(root):\n",
    "    if root:\n",
    "        inorder_traversal(root.left)\n",
    "        print(root.data,end=\"-->\")\n",
    "        inorder_traversal(root.right)\n",
    "    "
   ]
  },
  {
   "cell_type": "code",
   "execution_count": 3,
   "id": "c2e1214c-967a-42de-bd2b-d84de10fe146",
   "metadata": {},
   "outputs": [],
   "source": [
    "def preorder_traversal(root):\n",
    "    if root:\n",
    "        print(root.data,end=\"-->\")\n",
    "        preorder_traversal(root.left)\n",
    "        preorder_traversal(root.right)"
   ]
  },
  {
   "cell_type": "code",
   "execution_count": 4,
   "id": "4e809009-4275-4c4b-bc83-7e6bfe910669",
   "metadata": {},
   "outputs": [],
   "source": [
    "def postorder_traversal(root):\n",
    "    if root:\n",
    "        postorder_traversal(root.left)\n",
    "        postorder_traversal(root.right)\n",
    "        print(root.data,end=\"-->\")"
   ]
  },
  {
   "cell_type": "code",
   "execution_count": 5,
   "id": "a63dd04c-d793-43e0-b7d1-a686f9f44d39",
   "metadata": {},
   "outputs": [],
   "source": [
    "def recursive_search(root,data):\n",
    "    if not root or root.data == data:\n",
    "        return root\n",
    "    if data < root.data:\n",
    "        return recursive_search(root.left,data)\n",
    "    else:\n",
    "        return recursive_search(root.right,data)"
   ]
  },
  {
   "cell_type": "code",
   "execution_count": 6,
   "id": "00564c1a-e570-45c9-b708-9633ae418c45",
   "metadata": {},
   "outputs": [],
   "source": [
    "def insert(node,data):\n",
    "    if not node:\n",
    "        return Node(data)\n",
    "    if data < node.data:\n",
    "        node.left = insert(node.left,data)\n",
    "    else:\n",
    "        node.right = insert(node.right,data)\n",
    "    return node"
   ]
  },
  {
   "cell_type": "code",
   "execution_count": 21,
   "id": "5565c206-61a7-404e-b3a3-72441e412aec",
   "metadata": {},
   "outputs": [],
   "source": [
    "def find_minimum(root):\n",
    "    current = root\n",
    "    while current.left:\n",
    "        current = current.left\n",
    "    return current"
   ]
  },
  {
   "cell_type": "code",
   "execution_count": 22,
   "id": "641e7e81-d210-4b29-82ff-279c76df2e99",
   "metadata": {},
   "outputs": [],
   "source": [
    "def find_maximum(root):\n",
    "    current = root\n",
    "    while current.right:\n",
    "        current = current.right\n",
    "    return current"
   ]
  },
  {
   "cell_type": "code",
   "execution_count": 24,
   "id": "5910d958-f233-4b5d-99f9-375c2f051bb3",
   "metadata": {},
   "outputs": [],
   "source": [
    "def delete(node,data):\n",
    "    if not node:\n",
    "        return node\n",
    "    if data < node.data:\n",
    "        node.left = delete(node.left,data)\n",
    "    elif data > node.data:\n",
    "        node.right = delete(node.right,data)\n",
    "    else:\n",
    "        # match found\n",
    "        # one or no child\n",
    "        if not node.left:\n",
    "            tmp = node.right\n",
    "            node = None\n",
    "            return tmp\n",
    "        if not node.right:\n",
    "            tmp = node.left\n",
    "            node = None\n",
    "            return tmp\n",
    "        # two children\n",
    "        tmp = find_minimum(node.right)\n",
    "        node.data = tmp.data\n",
    "        node.right = delete(node.right,tmp.data)\n",
    "    return node"
   ]
  },
  {
   "cell_type": "code",
   "execution_count": null,
   "id": "4cc3f112-49d7-4cb2-aade-d96e2560ab38",
   "metadata": {},
   "outputs": [],
   "source": []
  },
  {
   "cell_type": "code",
   "execution_count": null,
   "id": "e149dc12-486d-43eb-ba3e-599a4f76b2d9",
   "metadata": {},
   "outputs": [],
   "source": []
  },
  {
   "cell_type": "code",
   "execution_count": 8,
   "id": "386e6a41-959a-4968-a52f-f8684e62e233",
   "metadata": {},
   "outputs": [
    {
     "name": "stdout",
     "output_type": "stream",
     "text": [
      "Inorder traversal:  1-->3-->4-->6-->7-->8-->10-->14-->"
     ]
    }
   ],
   "source": [
    "root = None\n",
    "root = insert(root, 8)\n",
    "root = insert(root, 3)\n",
    "root = insert(root, 1)\n",
    "root = insert(root, 6)\n",
    "root = insert(root, 7)\n",
    "root = insert(root, 10)\n",
    "root = insert(root, 14)\n",
    "root = insert(root, 4)\n",
    "\n",
    "print(\"Inorder traversal: \", end=' ')\n",
    "inorder_traversal(root)"
   ]
  },
  {
   "cell_type": "code",
   "execution_count": 9,
   "id": "a4f91c9a-f42a-47a3-9086-324ed8fe7283",
   "metadata": {},
   "outputs": [
    {
     "name": "stdout",
     "output_type": "stream",
     "text": [
      "Preorder traversal:  8-->3-->1-->6-->4-->7-->10-->14-->"
     ]
    }
   ],
   "source": [
    "print(\"Preorder traversal: \", end=' ')\n",
    "preorder_traversal(root)"
   ]
  },
  {
   "cell_type": "code",
   "execution_count": 10,
   "id": "58ca7408-1a52-4486-9220-779cbd0b0104",
   "metadata": {},
   "outputs": [
    {
     "name": "stdout",
     "output_type": "stream",
     "text": [
      "Postorder traversal:  1-->4-->7-->6-->3-->14-->10-->8-->"
     ]
    }
   ],
   "source": [
    "print(\"Postorder traversal: \", end=' ')\n",
    "postorder_traversal(root)"
   ]
  },
  {
   "cell_type": "code",
   "execution_count": 16,
   "id": "d6635897-666a-4d4b-ad50-0f2dba2913d6",
   "metadata": {},
   "outputs": [
    {
     "data": {
      "text/plain": [
       "1"
      ]
     },
     "execution_count": 16,
     "metadata": {},
     "output_type": "execute_result"
    }
   ],
   "source": [
    "find_minimum(root)"
   ]
  },
  {
   "cell_type": "code",
   "execution_count": 19,
   "id": "5c61be50-553d-49e2-a879-d213af269e62",
   "metadata": {},
   "outputs": [
    {
     "data": {
      "text/plain": [
       "14"
      ]
     },
     "execution_count": 19,
     "metadata": {},
     "output_type": "execute_result"
    }
   ],
   "source": [
    "find_maximum(root)"
   ]
  },
  {
   "cell_type": "code",
   "execution_count": 25,
   "id": "169b4421-e315-479e-8a5e-8e2e8db08073",
   "metadata": {},
   "outputs": [
    {
     "name": "stdout",
     "output_type": "stream",
     "text": [
      "1-->3-->4-->6-->7-->8-->14-->"
     ]
    }
   ],
   "source": [
    "delete(root,10)\n",
    "inorder_traversal(root)"
   ]
  },
  {
   "cell_type": "code",
   "execution_count": null,
   "id": "c968b788-1e60-4e78-9b2c-a4f75115c503",
   "metadata": {},
   "outputs": [],
   "source": []
  }
 ],
 "metadata": {
  "kernelspec": {
   "display_name": "Python 3 (ipykernel)",
   "language": "python",
   "name": "python3"
  },
  "language_info": {
   "codemirror_mode": {
    "name": "ipython",
    "version": 3
   },
   "file_extension": ".py",
   "mimetype": "text/x-python",
   "name": "python",
   "nbconvert_exporter": "python",
   "pygments_lexer": "ipython3",
   "version": "3.13.1"
  }
 },
 "nbformat": 4,
 "nbformat_minor": 5
}
